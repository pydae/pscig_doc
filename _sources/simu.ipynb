{
 "cells": [
  {
   "cell_type": "markdown",
   "metadata": {},
   "source": [
    "# Ejemplo de simulación"
   ]
  },
  {
   "cell_type": "code",
   "execution_count": null,
   "metadata": {},
   "outputs": [],
   "source": [
    "import numpy as np\n",
    "import matplotlib.pyplot as plt\n",
    "from pydae.systems.ier.proyecto import proyecto_class\n",
    "import pydae.grid_tools as gt"
   ]
  },
  {
   "cell_type": "markdown",
   "metadata": {},
   "source": [
    "Primero se instancia el simulador:"
   ]
  },
  {
   "cell_type": "code",
   "execution_count": null,
   "metadata": {},
   "outputs": [],
   "source": [
    "pr = proyecto_class()"
   ]
  },
  {
   "cell_type": "markdown",
   "metadata": {},
   "source": [
    "Los parametros de las líneas y transformadores deben ser adaptados, para ello se puede utilizar la herramienta `change_line` del modulo `pydae.grid_tools`:"
   ]
  },
  {
   "cell_type": "code",
   "execution_count": null,
   "metadata": {},
   "outputs": [],
   "source": [
    "gt.change_line(pr,'GR4','GR3',R_km=8.0,X_km=4.0,km=0.5)\n",
    "gt.change_line(pr,'GR2','GR1',R_km=8.0,X_km=4.0,km=0.5)\n",
    "gt.change_line(pr,'GR3','PMV',R_km=4.0,X_km=2.0,km=0.5)\n",
    "gt.change_line(pr,'GR1','PMV',R_km=4.0,X_km=2.0,km=0.5)\n",
    "gt.change_line(pr,'PMV','POI',R_pu=0.01,X_pu=0.05,S_mva=52.0)\n",
    "gt.change_line(pr,'POI','GRI',R_km=0.168495,X_km=0.04,km=26)"
   ]
  },
  {
   "cell_type": "markdown",
   "metadata": {},
   "source": [
    "Una vez que el sistema tiene los parametros deseados se lo puede inicializar."
   ]
  },
  {
   "cell_type": "code",
   "execution_count": null,
   "metadata": {},
   "outputs": [],
   "source": [
    "P_GR = 5e6\n",
    "Q_GR = 5e6\n",
    "\n",
    "pr.initialize([{'P_GR1': P_GR, 'Q_GR1': Q_GR,\n",
    "                'P_GR2': P_GR, 'Q_GR2': Q_GR,\n",
    "                'P_GR3': P_GR, 'Q_GR3': Q_GR,\n",
    "                'P_GR4': P_GR, 'Q_GR4': Q_GR}], 1) "
   ]
  },
  {
   "cell_type": "markdown",
   "metadata": {},
   "source": [
    "Para comprobar que la inicialización fue exitosa se pueden consultar los valores de las variables algebráicas:"
   ]
  },
  {
   "cell_type": "code",
   "execution_count": null,
   "metadata": {},
   "outputs": [],
   "source": [
    "pr.report_y()"
   ]
  },
  {
   "cell_type": "markdown",
   "metadata": {},
   "source": [
    "## Control de tensión del POI\n",
    "\n",
    "### Control de tensión utilizando sólo el STATCOM"
   ]
  },
  {
   "cell_type": "code",
   "execution_count": null,
   "metadata": {},
   "outputs": [],
   "source": [
    "P_GR = 5e6\n",
    "Q_GR = 0e6\n",
    "\n",
    "pr.initialize([{'P_GR1': P_GR, 'Q_GR1': Q_GR,\n",
    "                'P_GR2': P_GR, 'Q_GR2': Q_GR,\n",
    "                'P_GR3': P_GR, 'Q_GR3': Q_GR,\n",
    "                'P_GR4': P_GR, 'Q_GR4': Q_GR,\n",
    "                'P_PMV': 0.0, 'Q_PMV': 0.0}], 1) \n",
    "\n",
    "K_g = 1/250e6 # gain of the plant\n",
    "\n",
    "T_s = 0.1\n",
    "times = np.arange(0,10,T_s)\n",
    "N_t = len(times)\n",
    "N_x = 2\n",
    "\n",
    "# controller\n",
    "K_p = -20.0e6\n",
    "K_i = 1/(T_s*K_g)\n",
    "\n",
    "# initial conditions\n",
    "x = 0.0\n",
    "xi = 0.0\n",
    "Q_POI_ref = 0.0\n",
    "V_POI_ref = pr.get_value('V_POI')\n",
    "\n",
    "X = np.zeros((N_t,N_x))\n",
    "it = 0\n",
    "for t in times:\n",
    "    X[it,0] = xi\n",
    "    X[it,1] = Q_POI_ref\n",
    "    \n",
    "    if t>1.0:\n",
    "        V_POI_ref = 1.05\n",
    "        \n",
    "    # Plant\n",
    "    pr.set_value('Q_PMV',Q_POI_ref)\n",
    "    pr.run([{'t_end':t,'Q_PMV':Q_POI_ref}])\n",
    "    V_POI = pr.get_value('V_POI')\n",
    "    \n",
    "    # Controller\n",
    "    error = V_POI_ref - V_POI\n",
    "    xi = xi + T_s*error\n",
    "    Q_POI_ref = K_p*error + K_i*xi\n",
    "    \n",
    "    it += 1 \n",
    "\n",
    "pr.post()\n",
    "    \n",
    "plt.close('all')\n",
    "fig, axes = plt.subplots(nrows=2, ncols=1, figsize=(7, 7),sharex=True)\n",
    "\n",
    "axes[0].step(times,X[:,1]/1e6,label='$Q_{POI}^\\star$')\n",
    "axes[1].plot(pr.T,pr.get_values('V_POI'),label='$V_{POI}$')\n",
    "\n",
    "\n",
    "for ax in axes:\n",
    "    ax.grid()\n",
    "    ax.legend()\n",
    "ax.set_xlabel('Time (s)')"
   ]
  },
  {
   "cell_type": "markdown",
   "metadata": {},
   "source": [
    "### Control de tensión utilizando coordinando generadores y STATCOM"
   ]
  },
  {
   "cell_type": "code",
   "execution_count": null,
   "metadata": {},
   "outputs": [],
   "source": [
    "P_GR = 7e6\n",
    "Q_GR = 0e6\n",
    "S_GR = 8e6\n",
    "\n",
    "pr.initialize([{'P_GR1': P_GR, 'Q_GR1': Q_GR,\n",
    "                'P_GR2': P_GR, 'Q_GR2': Q_GR,\n",
    "                'P_GR3': P_GR, 'Q_GR3': Q_GR,\n",
    "                'P_GR4': P_GR, 'Q_GR4': Q_GR,\n",
    "                'P_PMV': 0.0, 'Q_PMV': 0.0}], 1) \n",
    "\n",
    "K_g = 1/220e6 # gain of the plant\n",
    "\n",
    "T_s = 0.1\n",
    "times = np.arange(0,10,T_s)\n",
    "N_t = len(times)\n",
    "N_x = 2\n",
    "\n",
    "# controller\n",
    "K_p = -1.0e7\n",
    "K_i = 1/(T_s*K_g)\n",
    "\n",
    "# initial conditions\n",
    "x = 0.0\n",
    "xi = 0.0\n",
    "Q_POI_ref = 0.0\n",
    "Q_GR1_ref = 0.0\n",
    "Q_GR2_ref = 0.0\n",
    "Q_GR3_ref = 0.0\n",
    "Q_GR4_ref = 0.0\n",
    "Q_STATCOM_ref = 0.0\n",
    "V_POI_ref = pr.get_value('V_POI')\n",
    "Q_GR_store = np.zeros((N_t,4))\n",
    "Q_STATCOM_store = np.zeros((N_t,1))\n",
    "X = np.zeros((N_t,N_x))\n",
    "it = 0\n",
    "for t in times:\n",
    "    X[it,0] = xi\n",
    "    X[it,1] = Q_POI_ref\n",
    "    \n",
    "    if t>1.0:\n",
    "        V_POI_ref = 1.05\n",
    "        \n",
    "    # Plant\n",
    "    for ig,q in zip(range(1,5),[Q_GR1_ref,Q_GR2_ref,Q_GR3_ref,Q_GR4_ref]):\n",
    "        P_GR = pr.get_value(f'P_GR{ig}').real\n",
    "        Q_GR_max = np.sqrt(S_GR**2 - P_GR**2)\n",
    "        if q> Q_GR_max: q =  Q_GR_max\n",
    "        if q<-Q_GR_max: q = -Q_GR_max\n",
    "        pr.set_value(f'Q_GR{ig}',q)   \n",
    "        Q_GR_store[it,ig-1] = q\n",
    "        \n",
    "    pr.run([{'t_end':t,'Q_PMV':Q_STATCOM_ref}])\n",
    "    Q_STATCOM_store[it,0] = Q_STATCOM_ref\n",
    "    V_POI = pr.get_value('V_POI')\n",
    "    \n",
    "    # Controller\n",
    "    error = V_POI_ref - V_POI\n",
    "    xi = xi + T_s*error\n",
    "    Q_POI_ref = K_p*error + K_i*xi\n",
    "    p_poi = gt.get_line_s(pr,'POI','GRI').real\n",
    "    q_gr_max = np.sqrt(S_GR**2 - (p_poi/4)**2)\n",
    "    Q_GR = Q_POI_ref/4\n",
    "    if Q_GR> q_gr_max: Q_GR =  q_gr_max\n",
    "    if Q_GR<-q_gr_max: Q_GR = -q_gr_max\n",
    "    Q_GR1_ref = Q_GR\n",
    "    Q_GR2_ref = Q_GR\n",
    "    Q_GR3_ref = Q_GR\n",
    "    Q_GR4_ref = Q_GR\n",
    "    \n",
    "    Q_STATCOM_ref = Q_POI_ref - 4*Q_GR \n",
    "    \n",
    "    it += 1 \n",
    "\n",
    "pr.post()\n",
    "    \n",
    "plt.close('all')\n",
    "fig, axes = plt.subplots(nrows=2, ncols=1, figsize=(7, 7),sharex=True)\n",
    "\n",
    "axes[0].step(times,X[:,1]/1e6,label='$Q_{POI}^\\star$')\n",
    "for ig in range(4):\n",
    "    axes[0].step(times,Q_GR_store[:,ig]/1e6,label=f'$Q_{{GR{ig+1}}}^\\star$')\n",
    "axes[0].step(times,Q_STATCOM_store[:,0]/1e6,label='$Q_{ST}^\\star$')\n",
    "axes[1].plot(pr.T,pr.get_values('V_POI'),label='$V_{POI}$')\n",
    "\n",
    "\n",
    "for ax in axes:\n",
    "    ax.grid()\n",
    "    ax.legend()\n",
    "ax.set_xlabel('Time (s)')"
   ]
  },
  {
   "cell_type": "code",
   "execution_count": null,
   "metadata": {},
   "outputs": [],
   "source": []
  },
  {
   "cell_type": "code",
   "execution_count": null,
   "metadata": {},
   "outputs": [],
   "source": []
  }
 ],
 "metadata": {
  "kernelspec": {
   "display_name": "Python 3",
   "language": "python",
   "name": "python3"
  },
  "language_info": {
   "codemirror_mode": {
    "name": "ipython",
    "version": 3
   },
   "file_extension": ".py",
   "mimetype": "text/x-python",
   "name": "python",
   "nbconvert_exporter": "python",
   "pygments_lexer": "ipython3",
   "version": "3.8.5"
  }
 },
 "nbformat": 4,
 "nbformat_minor": 4
}
